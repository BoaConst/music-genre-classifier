{
  "cells": [
    {
      "cell_type": "code",
      "execution_count": null,
      "metadata": {
        "id": "7U1UbM3ArXQC"
      },
      "outputs": [],
      "source": [
        "import pandas as pd\n",
        "import numpy as np\n",
        "import matplotlib.pyplot as plt\n",
        "import soundfile as sf\n",
        "import librosa\n",
        "import librosa.display\n",
        "from IPython.display import Audio\n",
        "from tqdm import tqdm \n",
        "from sklearn.model_selection import train_test_split\n",
        "import tensorflow as tf\n",
        "from tensorflow import keras\n",
        "from keras.models import Sequential\n",
        "from keras.layers import Dense, Flatten, Conv2D, MaxPooling2D, Dropout, LSTM, Bidirectional, GRU, BatchNormalization, LeakyReLU\n",
        "from keras.utils import to_categorical\n",
        "import os\n",
        "import math\n",
        "import json\n",
        "import random"
      ]
    },
    {
      "cell_type": "code",
      "execution_count": null,
      "metadata": {
        "id": "fcq1z_ztrXQF"
      },
      "outputs": [],
      "source": [
        "DATASET_PATH = '/content/drive/MyDrive/Data/genres_original'\n",
        "JSON_PATH = '/content/drive/MyDrive/Data/myjson.json'\n",
        "SAMPLE_RATE = sr =  22050\n",
        "DURATION = 30 #measured in seconds \n",
        "SAMPLES_PER_TRACK = SAMPLE_RATE*DURATION"
      ]
    },
    {
      "cell_type": "code",
      "execution_count": null,
      "metadata": {
        "id": "pf29x7IsrXQG"
      },
      "outputs": [],
      "source": [
        "def save_mfcc(dataset_path, json_path, n_mfcc=13, n_fft=4084, hop_length=1024, num_segments=10):\n",
        "    #dictionary to store data\n",
        "    data = {\n",
        "        'mapping' : [],\n",
        "        'mfcc' : [],\n",
        "        'labels' : []\n",
        "    }\n",
        "    \n",
        "    count = 0 # To keep track of our progress\n",
        "    num_samples_per_segment = int(SAMPLES_PER_TRACK / num_segments) \n",
        "    expected_num_mfcc_vectors_per_segment = math.ceil(num_samples_per_segment / hop_length)\n",
        "    \n",
        "    #Loop through all the genres\n",
        "    for i, (dirpath, dirnames, filenames) in enumerate(os.walk(dataset_path)):\n",
        "        \n",
        "        #ensure that we're not at the root level\n",
        "        if dirpath not in dataset_path:\n",
        "\n",
        "            #save the semantic label\n",
        "            dirpath_components = dirpath.split('/')\n",
        "            semantic_label = dirpath_components[-1]\n",
        "            data['mapping'].append(semantic_label)\n",
        "            print('\\nProcessing {}'.format(semantic_label))\n",
        "            \n",
        "            #process files for a specific genre \n",
        "            for f in filenames:\n",
        "                if f.endswith('.wav') and f != 'jazz.00054.wav': # Since file jazz.00054.wav is an empty file\n",
        "                    \n",
        "                    file_path = os.path.join(dirpath,f)\n",
        "                    \n",
        "                    #loading the audio file \n",
        "                    # we are using the soundfile library since it is faster than librosa\n",
        "                    signal, sr = sf.read(file_path) # len(signal) = 661794  # sr is 22050 by default \n",
        "                    #print(signal,sr)\n",
        "                    #process segments extracting mfcc and storing data\n",
        "                    for s in range(num_segments): \n",
        "                        # Since num_segments is defined as 5. Every 30 sec file is divided into 5 segments of length 6sec \n",
        "                        # Start sample would keep track of the index of the first element of each 6 second batch\n",
        "                        # finish sample would keep track of the index of the last element of each 6 second batch\n",
        "                        # And then with the help of python's slice functionality we will extract that 6 second batch from every 30 sec signal\n",
        "                        start_sample = num_samples_per_segment * s   \n",
        "                        finish_sample = num_samples_per_segment + start_sample\n",
        "                        \n",
        "                        # Next, we will pass each segment in order to extract MFCC. The parameter n_mfcc defines the number of mfcc \n",
        "                        # we need to extract, Usually n_mfcc is set b/w 13 to 40. The other parameters n_fft and hop length are \n",
        "                        # indivisual topics of discussion. Will be discussed in later Notbooks. \n",
        "                        mfcc = librosa.feature.mfcc(signal[start_sample : finish_sample],\n",
        "                                                   sr = sr,\n",
        "                                                   n_fft = n_fft,\n",
        "                                                   n_mfcc = n_mfcc,\n",
        "                                                   hop_length = hop_length)\n",
        "\n",
        "                        mfcc = mfcc.T\n",
        "                        # store mfcc for segment if it has the expected length\n",
        "                        if len(mfcc) == expected_num_mfcc_vectors_per_segment:\n",
        "                            print(mfcc.shape)\n",
        "                            data['mfcc'].append(mfcc.tolist())\n",
        "                            data['labels'].append(i)\n",
        "                            print('Processing {}, segment:{}'.format(file_path, s))\n",
        "                            count += 1\n",
        "                            print(count)\n",
        "    with open(json_path, 'w') as fp:\n",
        "        json.dump(data, fp, indent=4)"
      ]
    },
    {
      "cell_type": "code",
      "execution_count": null,
      "metadata": {
        "id": "_kYkLQUarXQH"
      },
      "outputs": [],
      "source": [
        "# Let's run the above function \n",
        "save_mfcc(DATASET_PATH, JSON_PATH, num_segments=10)"
      ]
    },
    {
      "cell_type": "code",
      "execution_count": null,
      "metadata": {
        "id": "9Z2UKEm1rXQH"
      },
      "outputs": [],
      "source": [
        "# loading the saved Json file\n",
        "def load_data(path):\n",
        "    with open(path, 'r') as fp:\n",
        "        data = json.load(fp)\n",
        "        \n",
        "    #Convert lists into numpy arrays\n",
        "    inputs = data['mfcc']\n",
        "    targets = data['labels'] \n",
        "    return np.array(inputs), np.array(targets)"
      ]
    },
    {
      "cell_type": "code",
      "execution_count": null,
      "metadata": {
        "id": "Ma_HisNdrXQI"
      },
      "outputs": [],
      "source": [
        "inputs, targets = load_data(\"/content/drive/MyDrive/Data/myjson.json\")"
      ]
    },
    {
      "cell_type": "code",
      "execution_count": null,
      "metadata": {
        "id": "mdBHLtsnrXQI"
      },
      "outputs": [],
      "source": [
        "print(inputs)"
      ]
    },
    {
      "cell_type": "code",
      "execution_count": null,
      "metadata": {
        "colab": {
          "base_uri": "https://localhost:8080/"
        },
        "id": "rdktgQBJrXQI",
        "outputId": "0d2ead61-d92f-42ab-ad7b-110aaa886b5e"
      },
      "outputs": [
        {
          "output_type": "execute_result",
          "data": {
            "text/plain": [
              "(9979, 65, 13)"
            ]
          },
          "metadata": {},
          "execution_count": 8
        }
      ],
      "source": [
        "inputs.shape"
      ]
    },
    {
      "cell_type": "code",
      "execution_count": null,
      "metadata": {
        "colab": {
          "base_uri": "https://localhost:8080/"
        },
        "id": "bqgupCHrrXQJ",
        "outputId": "5e259c3f-61d9-46ba-aab8-8eddef50618b"
      },
      "outputs": [
        {
          "output_type": "execute_result",
          "data": {
            "text/plain": [
              "(array([ 1,  2,  3,  5,  6,  7,  8,  9, 10, 11]),\n",
              " array([1000,  999,  990, 1000, 1000, 1000,  990, 1000, 1000, 1000]))"
            ]
          },
          "metadata": {},
          "execution_count": 9
        }
      ],
      "source": [
        "np.unique(targets, return_counts=True)"
      ]
    },
    {
      "cell_type": "code",
      "execution_count": null,
      "metadata": {
        "id": "JlX8hJVurXQJ"
      },
      "outputs": [],
      "source": [
        "# Converting labels from 15-24 to 0-9\n",
        "v = min(np.unique(targets))\n",
        "for i in range(len(targets)):\n",
        "    if targets[i] == v:\n",
        "        targets[i] = 0\n",
        "    else:\n",
        "        new = targets[i] - v\n",
        "        targets[i] = new"
      ]
    },
    {
      "cell_type": "code",
      "execution_count": null,
      "metadata": {
        "colab": {
          "base_uri": "https://localhost:8080/"
        },
        "id": "JYeGRZIGrXQJ",
        "outputId": "75fccadb-8ed9-43bf-f375-a75f734b7a0b"
      },
      "outputs": [
        {
          "output_type": "execute_result",
          "data": {
            "text/plain": [
              "(array([ 0,  1,  2,  4,  5,  6,  7,  8,  9, 10]),\n",
              " array([1000,  999,  990, 1000, 1000, 1000,  990, 1000, 1000, 1000]))"
            ]
          },
          "metadata": {},
          "execution_count": 11
        }
      ],
      "source": [
        "np.unique(targets, return_counts=True)"
      ]
    },
    {
      "cell_type": "code",
      "execution_count": null,
      "metadata": {
        "id": "xsJEo8AdrXQK"
      },
      "outputs": [],
      "source": [
        "inputs_train, inputs_test, targets_train, targets_test = train_test_split(inputs, targets, test_size=0.25)"
      ]
    },
    {
      "cell_type": "code",
      "execution_count": null,
      "metadata": {
        "id": "k-HXsGqRrXQK"
      },
      "outputs": [],
      "source": [
        "# Adding Noise \n",
        "for i in range(inputs_train.shape[0]):\n",
        "    s = np.random.rand(inputs_train.shape[1], inputs_train.shape[2])\n",
        "    inputs_train[i] = inputs_train[i] + s\n"
      ]
    },
    {
      "cell_type": "code",
      "execution_count": null,
      "metadata": {
        "id": "iMqz7KJYrXQK"
      },
      "outputs": [],
      "source": [
        "model = Sequential()\n",
        "\n",
        "model.add(GRU(100, return_sequences=True, input_shape=(inputs.shape[1], inputs.shape[2])))\n",
        "model.add(GRU(500, return_sequences=True))\n",
        "model.add(GRU(1000))\n",
        "model.add(LeakyReLU())\n",
        "model.add(Dropout(0.2))\n",
        "model.add(BatchNormalization())\n",
        "model.add(Flatten())\n",
        "model.add(Dense(100))\n",
        "model.add(LeakyReLU())\n",
        "model.add(Dense(11, 'softmax'))\n",
        "\n",
        "model.compile(optimizer=tf.keras.optimizers.Adam(),\n",
        "             loss = 'sparse_categorical_crossentropy',\n",
        "             metrics=['accuracy'])\n"
      ]
    },
    {
      "cell_type": "code",
      "execution_count": null,
      "metadata": {
        "colab": {
          "base_uri": "https://localhost:8080/"
        },
        "id": "-R_2CoIYrXQL",
        "outputId": "5c19c546-5345-4613-d9b7-d58312bde90b"
      },
      "outputs": [
        {
          "output_type": "stream",
          "name": "stdout",
          "text": [
            "Model: \"sequential\"\n",
            "_________________________________________________________________\n",
            " Layer (type)                Output Shape              Param #   \n",
            "=================================================================\n",
            " gru (GRU)                   (None, 65, 100)           34500     \n",
            "                                                                 \n",
            " gru_1 (GRU)                 (None, 65, 500)           903000    \n",
            "                                                                 \n",
            " gru_2 (GRU)                 (None, 1000)              4506000   \n",
            "                                                                 \n",
            " leaky_re_lu (LeakyReLU)     (None, 1000)              0         \n",
            "                                                                 \n",
            " dropout (Dropout)           (None, 1000)              0         \n",
            "                                                                 \n",
            " batch_normalization (BatchN  (None, 1000)             4000      \n",
            " ormalization)                                                   \n",
            "                                                                 \n",
            " flatten (Flatten)           (None, 1000)              0         \n",
            "                                                                 \n",
            " dense (Dense)               (None, 100)               100100    \n",
            "                                                                 \n",
            " leaky_re_lu_1 (LeakyReLU)   (None, 100)               0         \n",
            "                                                                 \n",
            " dense_1 (Dense)             (None, 11)                1111      \n",
            "                                                                 \n",
            "=================================================================\n",
            "Total params: 5,548,711\n",
            "Trainable params: 5,546,711\n",
            "Non-trainable params: 2,000\n",
            "_________________________________________________________________\n"
          ]
        }
      ],
      "source": [
        "model.summary()"
      ]
    },
    {
      "cell_type": "code",
      "execution_count": null,
      "metadata": {
        "colab": {
          "base_uri": "https://localhost:8080/"
        },
        "id": "h5V-5cVQrXQL",
        "outputId": "46ec3eeb-fff1-4b80-d6a3-3dc15c967a9f"
      },
      "outputs": [
        {
          "output_type": "stream",
          "name": "stdout",
          "text": [
            "Epoch 1/50\n",
            "75/75 [==============================] - 442s 6s/step - loss: 1.6663 - accuracy: 0.4538 - val_loss: 1.6493 - val_accuracy: 0.4729\n",
            "Epoch 2/50\n",
            "75/75 [==============================] - 427s 6s/step - loss: 1.1282 - accuracy: 0.6069 - val_loss: 1.3823 - val_accuracy: 0.5347\n",
            "Epoch 3/50\n",
            "75/75 [==============================] - 426s 6s/step - loss: 0.8975 - accuracy: 0.6823 - val_loss: 1.0308 - val_accuracy: 0.6585\n",
            "Epoch 4/50\n",
            "75/75 [==============================] - 429s 6s/step - loss: 0.7570 - accuracy: 0.7296 - val_loss: 0.9447 - val_accuracy: 0.6613\n",
            "Epoch 5/50\n",
            "75/75 [==============================] - 431s 6s/step - loss: 0.6408 - accuracy: 0.7694 - val_loss: 0.7888 - val_accuracy: 0.7138\n",
            "Epoch 6/50\n",
            "75/75 [==============================] - 431s 6s/step - loss: 0.5357 - accuracy: 0.8152 - val_loss: 0.7990 - val_accuracy: 0.7222\n",
            "Epoch 7/50\n",
            "75/75 [==============================] - 437s 6s/step - loss: 0.4413 - accuracy: 0.8406 - val_loss: 0.7234 - val_accuracy: 0.7619\n",
            "Epoch 8/50\n",
            "75/75 [==============================] - 438s 6s/step - loss: 0.3779 - accuracy: 0.8613 - val_loss: 0.7989 - val_accuracy: 0.7587\n",
            "Epoch 9/50\n",
            "75/75 [==============================] - 432s 6s/step - loss: 0.3230 - accuracy: 0.8813 - val_loss: 0.8263 - val_accuracy: 0.7543\n",
            "Epoch 10/50\n",
            "75/75 [==============================] - 430s 6s/step - loss: 0.2580 - accuracy: 0.9105 - val_loss: 0.7114 - val_accuracy: 0.7952\n",
            "Epoch 11/50\n",
            "75/75 [==============================] - 430s 6s/step - loss: 0.2133 - accuracy: 0.9257 - val_loss: 0.6688 - val_accuracy: 0.8028\n",
            "Epoch 12/50\n",
            "75/75 [==============================] - 429s 6s/step - loss: 0.1762 - accuracy: 0.9367 - val_loss: 0.7755 - val_accuracy: 0.7908\n",
            "Epoch 13/50\n",
            "75/75 [==============================] - 434s 6s/step - loss: 0.1615 - accuracy: 0.9407 - val_loss: 0.7722 - val_accuracy: 0.7960\n",
            "Epoch 14/50\n",
            "75/75 [==============================] - 432s 6s/step - loss: 0.1273 - accuracy: 0.9591 - val_loss: 0.8712 - val_accuracy: 0.7864\n",
            "Epoch 15/50\n",
            "75/75 [==============================] - 430s 6s/step - loss: 0.1110 - accuracy: 0.9602 - val_loss: 1.0292 - val_accuracy: 0.7643\n",
            "Epoch 16/50\n",
            "75/75 [==============================] - 431s 6s/step - loss: 0.1028 - accuracy: 0.9642 - val_loss: 0.8551 - val_accuracy: 0.8064\n",
            "Epoch 17/50\n",
            "75/75 [==============================] - 432s 6s/step - loss: 0.0953 - accuracy: 0.9670 - val_loss: 0.9717 - val_accuracy: 0.7876\n",
            "Epoch 18/50\n",
            "75/75 [==============================] - 444s 6s/step - loss: 0.1189 - accuracy: 0.9578 - val_loss: 1.0998 - val_accuracy: 0.7772\n",
            "Epoch 19/50\n",
            "75/75 [==============================] - 441s 6s/step - loss: 0.1048 - accuracy: 0.9588 - val_loss: 1.0292 - val_accuracy: 0.7928\n",
            "Epoch 20/50\n",
            "75/75 [==============================] - 439s 6s/step - loss: 0.0928 - accuracy: 0.9678 - val_loss: 1.0000 - val_accuracy: 0.7860\n",
            "Epoch 21/50\n",
            "75/75 [==============================] - 434s 6s/step - loss: 0.0707 - accuracy: 0.9757 - val_loss: 0.8391 - val_accuracy: 0.8112\n",
            "Epoch 22/50\n",
            "75/75 [==============================] - 432s 6s/step - loss: 0.0781 - accuracy: 0.9711 - val_loss: 1.0033 - val_accuracy: 0.7960\n",
            "Epoch 23/50\n",
            "75/75 [==============================] - 430s 6s/step - loss: 0.0934 - accuracy: 0.9679 - val_loss: 1.0672 - val_accuracy: 0.7896\n",
            "Epoch 24/50\n",
            "75/75 [==============================] - 431s 6s/step - loss: 0.0750 - accuracy: 0.9731 - val_loss: 1.1514 - val_accuracy: 0.7679\n",
            "Epoch 25/50\n",
            "75/75 [==============================] - 431s 6s/step - loss: 0.0623 - accuracy: 0.9766 - val_loss: 0.9234 - val_accuracy: 0.8168\n",
            "Epoch 26/50\n",
            "75/75 [==============================] - 428s 6s/step - loss: 0.0555 - accuracy: 0.9797 - val_loss: 0.9654 - val_accuracy: 0.8176\n",
            "Epoch 27/50\n",
            "75/75 [==============================] - 430s 6s/step - loss: 0.0273 - accuracy: 0.9908 - val_loss: 0.9920 - val_accuracy: 0.8168\n",
            "Epoch 28/50\n",
            "75/75 [==============================] - 436s 6s/step - loss: 0.0286 - accuracy: 0.9893 - val_loss: 0.8882 - val_accuracy: 0.8160\n",
            "Epoch 29/50\n",
            "75/75 [==============================] - 453s 6s/step - loss: 0.0335 - accuracy: 0.9892 - val_loss: 1.1582 - val_accuracy: 0.7912\n",
            "Epoch 30/50\n",
            "75/75 [==============================] - 452s 6s/step - loss: 0.1074 - accuracy: 0.9642 - val_loss: 1.0205 - val_accuracy: 0.8140\n",
            "Epoch 31/50\n",
            "75/75 [==============================] - 450s 6s/step - loss: 0.1260 - accuracy: 0.9626 - val_loss: 1.3048 - val_accuracy: 0.7675\n",
            "Epoch 32/50\n",
            "75/75 [==============================] - 451s 6s/step - loss: 0.1045 - accuracy: 0.9651 - val_loss: 1.0945 - val_accuracy: 0.7948\n",
            "Epoch 33/50\n",
            "75/75 [==============================] - 446s 6s/step - loss: 0.3010 - accuracy: 0.8986 - val_loss: 1.0437 - val_accuracy: 0.7383\n",
            "Epoch 34/50\n",
            "75/75 [==============================] - 445s 6s/step - loss: 0.2624 - accuracy: 0.9121 - val_loss: 1.0649 - val_accuracy: 0.7611\n",
            "Epoch 35/50\n",
            "75/75 [==============================] - 439s 6s/step - loss: 0.1042 - accuracy: 0.9634 - val_loss: 0.8433 - val_accuracy: 0.8261\n",
            "Epoch 36/50\n",
            "75/75 [==============================] - 436s 6s/step - loss: 0.0571 - accuracy: 0.9798 - val_loss: 0.7734 - val_accuracy: 0.8313\n",
            "Epoch 37/50\n",
            "75/75 [==============================] - 438s 6s/step - loss: 0.0424 - accuracy: 0.9854 - val_loss: 0.8237 - val_accuracy: 0.8293\n",
            "Epoch 38/50\n",
            "75/75 [==============================] - 439s 6s/step - loss: 0.0314 - accuracy: 0.9894 - val_loss: 0.7834 - val_accuracy: 0.8465\n",
            "Epoch 39/50\n",
            "75/75 [==============================] - 438s 6s/step - loss: 0.0165 - accuracy: 0.9939 - val_loss: 0.7752 - val_accuracy: 0.8473\n",
            "Epoch 40/50\n",
            "75/75 [==============================] - 446s 6s/step - loss: 0.0173 - accuracy: 0.9928 - val_loss: 0.7665 - val_accuracy: 0.8541\n",
            "Epoch 41/50\n",
            "75/75 [==============================] - 436s 6s/step - loss: 0.0164 - accuracy: 0.9953 - val_loss: 0.8569 - val_accuracy: 0.8485\n",
            "Epoch 42/50\n",
            "75/75 [==============================] - 435s 6s/step - loss: 0.0134 - accuracy: 0.9953 - val_loss: 0.8331 - val_accuracy: 0.8385\n",
            "Epoch 43/50\n",
            "75/75 [==============================] - 449s 6s/step - loss: 0.0193 - accuracy: 0.9928 - val_loss: 0.9785 - val_accuracy: 0.8248\n",
            "Epoch 44/50\n",
            "75/75 [==============================] - 448s 6s/step - loss: 0.0395 - accuracy: 0.9870 - val_loss: 1.1071 - val_accuracy: 0.8164\n",
            "Epoch 45/50\n",
            "75/75 [==============================] - 452s 6s/step - loss: 0.0617 - accuracy: 0.9786 - val_loss: 1.0389 - val_accuracy: 0.8152\n",
            "Epoch 46/50\n",
            "75/75 [==============================] - 462s 6s/step - loss: 0.0674 - accuracy: 0.9781 - val_loss: 0.9479 - val_accuracy: 0.8136\n",
            "Epoch 47/50\n",
            "75/75 [==============================] - 469s 6s/step - loss: 0.0485 - accuracy: 0.9838 - val_loss: 0.8964 - val_accuracy: 0.8377\n",
            "Epoch 48/50\n",
            "75/75 [==============================] - 473s 6s/step - loss: 0.0244 - accuracy: 0.9916 - val_loss: 0.9353 - val_accuracy: 0.8365\n",
            "Epoch 49/50\n",
            "75/75 [==============================] - 472s 6s/step - loss: 0.0198 - accuracy: 0.9931 - val_loss: 0.8393 - val_accuracy: 0.8497\n",
            "Epoch 50/50\n",
            "75/75 [==============================] - 481s 6s/step - loss: 0.0296 - accuracy: 0.9894 - val_loss: 0.9363 - val_accuracy: 0.8393\n"
          ]
        }
      ],
      "source": [
        "history = model.fit(inputs_train, targets_train,\n",
        "          validation_data=(inputs_test, targets_test),\n",
        "          epochs = 50,\n",
        "          batch_size=100)"
      ]
    },
    {
      "cell_type": "code",
      "execution_count": null,
      "metadata": {
        "id": "MYLfTY5ErXQL",
        "colab": {
          "base_uri": "https://localhost:8080/",
          "height": 590
        },
        "outputId": "2dd76363-72bd-46d6-9829-f6f17d996803"
      },
      "outputs": [
        {
          "output_type": "stream",
          "name": "stdout",
          "text": [
            "<keras.callbacks.History object at 0x7f6aead0cb20>\n"
          ]
        },
        {
          "output_type": "display_data",
          "data": {
            "text/plain": [
              "<Figure size 432x288 with 1 Axes>"
            ],
            "image/png": "[encoded data removed]"
          },
          "metadata": {
            "needs_background": "light"
          }
        },
        {
          "output_type": "display_data",
          "data": {
            "text/plain": [
              "<Figure size 432x288 with 1 Axes>"
            ],
            "image/png": "[encoded data removed]"
          },
          "metadata": {
            "needs_background": "light"
          }
        }
      ],
      "source": [
        "print(history)\n",
        "\n",
        "plt.plot(history.history['accuracy'])\n",
        "plt.plot(history.history['val_accuracy'])\n",
        "plt.title('model accuracy')\n",
        "plt.ylabel('accuracy')\n",
        "plt.xlabel('epoch')\n",
        "plt.legend(['train', 'test'], loc='upper left')\n",
        "plt.show()\n",
        "# summarize history for loss\n",
        "plt.plot(history.history['loss'])\n",
        "plt.plot(history.history['val_loss'])\n",
        "plt.title('model loss')\n",
        "plt.ylabel('loss')\n",
        "plt.xlabel('epoch')\n",
        "plt.legend(['train', 'test'], loc='upper left')\n",
        "plt.show()"
      ]
    }
  ],
  "metadata": {
    "colab": {
      "provenance": []
    },
    "gpuClass": "standard",
    "kernelspec": {
      "display_name": "Python 3",
      "name": "python3"
    },
    "language_info": {
      "name": "python"
    }
  },
  "nbformat": 4,
  "nbformat_minor": 0
}